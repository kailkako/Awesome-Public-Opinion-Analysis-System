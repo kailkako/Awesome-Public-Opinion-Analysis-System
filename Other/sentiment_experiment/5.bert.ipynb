{
 "cells": [
  {
   "cell_type": "markdown",
   "metadata": {
    "cell_id": 39
   },
   "source": [
    "### 加载数据集"
   ]
  },
  {
   "cell_type": "code",
   "execution_count": 1,
   "metadata": {
    "cell_id": 1
   },
   "outputs": [],
   "source": [
    "from utils import load_corpus_bert\n",
    "\n",
    "TRAIN_PATH = \"./data/weibo_dataset/train.txt\"\n",
    "TEST_PATH = \"./data/weibo_dataset/test.txt\""
   ]
  },
  {
   "cell_type": "code",
   "execution_count": 2,
   "metadata": {
    "cell_id": 3
   },
   "outputs": [],
   "source": [
    "# 分别加载训练集和测试集\n",
    "train_data = load_corpus_bert(TRAIN_PATH)\n",
    "test_data = load_corpus_bert(TEST_PATH)"
   ]
  },
  {
   "cell_type": "code",
   "execution_count": 3,
   "metadata": {
    "cell_id": 4
   },
   "outputs": [
    {
     "data": {
      "text/html": [
       "<div>\n",
       "<style scoped>\n",
       "    .dataframe tbody tr th:only-of-type {\n",
       "        vertical-align: middle;\n",
       "    }\n",
       "\n",
       "    .dataframe tbody tr th {\n",
       "        vertical-align: top;\n",
       "    }\n",
       "\n",
       "    .dataframe thead th {\n",
       "        text-align: right;\n",
       "    }\n",
       "</style>\n",
       "<table border=\"1\" class=\"dataframe\">\n",
       "  <thead>\n",
       "    <tr style=\"text-align: right;\">\n",
       "      <th></th>\n",
       "      <th>text</th>\n",
       "      <th>label</th>\n",
       "    </tr>\n",
       "  </thead>\n",
       "  <tbody>\n",
       "    <tr>\n",
       "      <th>0</th>\n",
       "      <td>“书中自有黄金屋，书中自有颜如玉”。沿着岁月的长河跋涉，或是风光旖旎，或是姹紫嫣红，万千...</td>\n",
       "      <td>1</td>\n",
       "    </tr>\n",
       "    <tr>\n",
       "      <th>1</th>\n",
       "      <td>这是英超被黑的最惨的一次[二哈][二哈]十几年来，中国只有孙继海，董方卓，郑智，李铁登陆过英...</td>\n",
       "      <td>0</td>\n",
       "    </tr>\n",
       "    <tr>\n",
       "      <th>2</th>\n",
       "      <td>中国远洋海运集团副总经理俞曾港4月21日在 上表示，中央企业“走出去”是要站在更高的平台参...</td>\n",
       "      <td>1</td>\n",
       "    </tr>\n",
       "    <tr>\n",
       "      <th>3</th>\n",
       "      <td>看《流星花园》其实也还好啦，现在的观念以及时尚眼光都不一样了，或许十几年之后的人看我们的现在...</td>\n",
       "      <td>1</td>\n",
       "    </tr>\n",
       "    <tr>\n",
       "      <th>4</th>\n",
       "      <td>汉武帝的罪己诏的真实性尽管存在着争议，然而“轮台罪己诏”作为中国历史上第一份皇帝自我批评的文...</td>\n",
       "      <td>1</td>\n",
       "    </tr>\n",
       "  </tbody>\n",
       "</table>\n",
       "</div>"
      ],
      "text/plain": [
       "                                                text  label\n",
       "0    “书中自有黄金屋，书中自有颜如玉”。沿着岁月的长河跋涉，或是风光旖旎，或是姹紫嫣红，万千...      1\n",
       "1  这是英超被黑的最惨的一次[二哈][二哈]十几年来，中国只有孙继海，董方卓，郑智，李铁登陆过英...      0\n",
       "2   中国远洋海运集团副总经理俞曾港4月21日在 上表示，中央企业“走出去”是要站在更高的平台参...      1\n",
       "3  看《流星花园》其实也还好啦，现在的观念以及时尚眼光都不一样了，或许十几年之后的人看我们的现在...      1\n",
       "4  汉武帝的罪己诏的真实性尽管存在着争议，然而“轮台罪己诏”作为中国历史上第一份皇帝自我批评的文...      1"
      ]
     },
     "execution_count": 3,
     "metadata": {},
     "output_type": "execute_result"
    }
   ],
   "source": [
    "import pandas as pd\n",
    "\n",
    "df_train = pd.DataFrame(train_data, columns=[\"text\", \"label\"])\n",
    "df_test = pd.DataFrame(test_data, columns=[\"text\", \"label\"])\n",
    "df_train.head()"
   ]
  },
  {
   "cell_type": "markdown",
   "metadata": {
    "cell_id": 41
   },
   "source": [
    "### 加载Bert"
   ]
  },
  {
   "cell_type": "code",
   "execution_count": 4,
   "metadata": {
    "cell_id": 5
   },
   "outputs": [],
   "source": [
    "import os\n",
    "from transformers import BertTokenizer, BertModel\n",
    "\n",
    "os.environ[\"KMP_DUPLICATE_LIB_OK\"] = \"TRUE\"    # 在我的电脑上不加这一句, bert模型会报错\n",
    "MODEL_PATH = \"E:\\\\BaiduNetdiskDownload\\\\BERT-wwm\\\\\"     # 下载地址见 https://github.com/ymcui/Chinese-BERT-wwm"
   ]
  },
  {
   "cell_type": "code",
   "execution_count": 5,
   "metadata": {
    "cell_id": 6
   },
   "outputs": [],
   "source": [
    "# 加载\n",
    "tokenizer = BertTokenizer.from_pretrained(MODEL_PATH)   # 分词器\n",
    "bert = BertModel.from_pretrained(MODEL_PATH)            # 模型"
   ]
  },
  {
   "cell_type": "markdown",
   "metadata": {
    "cell_id": 43
   },
   "source": [
    "### 神经网络"
   ]
  },
  {
   "cell_type": "code",
   "execution_count": 6,
   "metadata": {
    "cell_id": 7
   },
   "outputs": [],
   "source": [
    "import torch\n",
    "from torch import nn\n",
    "from torch.utils.data import Dataset, DataLoader\n",
    "\n",
    "device = \"cuda:0\" if torch.cuda.is_available() else \"cpu\""
   ]
  },
  {
   "cell_type": "code",
   "execution_count": 7,
   "metadata": {
    "cell_id": 8
   },
   "outputs": [],
   "source": [
    "# 超参数\n",
    "learning_rate = 1e-3\n",
    "input_size = 768\n",
    "num_epoches = 10\n",
    "batch_size = 100\n",
    "decay_rate = 0.9"
   ]
  },
  {
   "cell_type": "code",
   "execution_count": 8,
   "metadata": {
    "cell_id": 9
   },
   "outputs": [],
   "source": [
    "# 数据集\n",
    "class MyDataset(Dataset):\n",
    "    def __init__(self, df):\n",
    "        self.data = df[\"text\"].tolist()\n",
    "        self.label = df[\"label\"].tolist()\n",
    "\n",
    "    def __getitem__(self, index):\n",
    "        data = self.data[index]\n",
    "        label = self.label[index]\n",
    "        return data, label\n",
    "\n",
    "    def __len__(self):\n",
    "        return len(self.label)\n",
    "\n",
    "# 训练集\n",
    "train_data = MyDataset(df_train)\n",
    "train_loader = DataLoader(train_data, batch_size=batch_size, shuffle=True)\n",
    "\n",
    "# 测试集\n",
    "test_data = MyDataset(df_test)\n",
    "test_loader = DataLoader(test_data, batch_size=batch_size, shuffle=True)"
   ]
  },
  {
   "cell_type": "code",
   "execution_count": 9,
   "metadata": {
    "cell_id": 10
   },
   "outputs": [],
   "source": [
    "# 网络结构\n",
    "class Net(nn.Module):\n",
    "    def __init__(self, input_size):\n",
    "        super(Net, self).__init__()\n",
    "        self.fc = nn.Linear(input_size, 1)\n",
    "        self.sigmoid = nn.Sigmoid()\n",
    "\n",
    "    def forward(self, x):\n",
    "        out = self.fc(x)\n",
    "        out = self.sigmoid(out)\n",
    "        return out\n",
    "\n",
    "net = Net(input_size).to(device)"
   ]
  },
  {
   "cell_type": "code",
   "execution_count": 10,
   "metadata": {
    "cell_id": 34
   },
   "outputs": [],
   "source": [
    "from sklearn import metrics\n",
    "\n",
    "# 测试集效果检验\n",
    "def test():\n",
    "    y_pred, y_true = [], []\n",
    "\n",
    "    with torch.no_grad():\n",
    "        for words, labels in test_loader:\n",
    "            tokens = tokenizer(words, padding=True)\n",
    "            input_ids = torch.tensor(tokens[\"input_ids\"]).to(device)\n",
    "            attention_mask = torch.tensor(tokens[\"attention_mask\"]).to(device)\n",
    "            last_hidden_states = bert(input_ids, attention_mask=attention_mask)\n",
    "            bert_output = last_hidden_states[0][:, 0]\n",
    "            outputs = net(bert_output)          # 前向传播\n",
    "            outputs = outputs.view(-1)          # 将输出展平\n",
    "            y_pred.append(outputs)\n",
    "            y_true.append(labels)\n",
    "\n",
    "    y_prob = torch.cat(y_pred)\n",
    "    y_true = torch.cat(y_true)\n",
    "    y_pred = y_prob.clone()\n",
    "    y_pred[y_pred > 0.5] = 1\n",
    "    y_pred[y_pred <= 0.5] = 0\n",
    "    \n",
    "    print(metrics.classification_report(y_true, y_pred, digits=3))\n",
    "    print(\"准确率: {:.3f}\".format(metrics.accuracy_score(y_true, y_pred)))\n",
    "    print(\"AUC:\", metrics.roc_auc_score(y_true, y_prob) )"
   ]
  },
  {
   "cell_type": "code",
   "execution_count": 11,
   "metadata": {
    "cell_id": 11
   },
   "outputs": [],
   "source": [
    "# 定义损失函数和优化器\n",
    "criterion = nn.BCELoss()\n",
    "optimizer = torch.optim.Adam(net.parameters(), lr=learning_rate)\n",
    "scheduler = torch.optim.lr_scheduler.ExponentialLR(optimizer, gamma=decay_rate)"
   ]
  },
  {
   "cell_type": "code",
   "execution_count": 12,
   "metadata": {
    "cell_id": 14,
    "scrolled": true
   },
   "outputs": [
    {
     "name": "stdout",
     "output_type": "stream",
     "text": [
      "epoch:1, step:10, loss:0.6867873668670654\n",
      "epoch:1, step:20, loss:0.6229158639907837\n",
      "epoch:1, step:30, loss:0.5826729536056519\n",
      "epoch:1, step:40, loss:0.5571161508560181\n",
      "epoch:1, step:50, loss:0.5225856900215149\n",
      "epoch:1, step:60, loss:0.5208104252815247\n",
      "epoch:1, step:70, loss:0.5082587599754333\n",
      "epoch:1, step:80, loss:0.4858380854129791\n",
      "epoch:1, step:90, loss:0.47907501459121704\n",
      "epoch:1, step:100, loss:0.4848185181617737\n",
      "              precision    recall  f1-score   support\n",
      "\n",
      "           0      0.728     0.761     0.744       155\n",
      "           1      0.891     0.872     0.881       345\n",
      "\n",
      "    accuracy                          0.838       500\n",
      "   macro avg      0.809     0.817     0.813       500\n",
      "weighted avg      0.840     0.838     0.839       500\n",
      "\n",
      "准确率: 0.838\n",
      "AUC: 0.8987938288920055\n",
      "saved model:  ./model/bert_dnn_1.model\n",
      "epoch:2, step:10, loss:0.48318830132484436\n",
      "epoch:2, step:20, loss:0.45365530252456665\n",
      "epoch:2, step:30, loss:0.45678120851516724\n",
      "epoch:2, step:40, loss:0.4850654602050781\n",
      "epoch:2, step:50, loss:0.4632736146450043\n",
      "epoch:2, step:60, loss:0.4295284152030945\n",
      "epoch:2, step:70, loss:0.45346173644065857\n",
      "epoch:2, step:80, loss:0.43962159752845764\n",
      "epoch:2, step:90, loss:0.45455202460289\n",
      "epoch:2, step:100, loss:0.44224444031715393\n",
      "              precision    recall  f1-score   support\n",
      "\n",
      "           0      0.726     0.819     0.770       155\n",
      "           1      0.914     0.861     0.887       345\n",
      "\n",
      "    accuracy                          0.848       500\n",
      "   macro avg      0.820     0.840     0.828       500\n",
      "weighted avg      0.856     0.848     0.850       500\n",
      "\n",
      "准确率: 0.848\n",
      "AUC: 0.9110238429172509\n",
      "saved model:  ./model/bert_dnn_2.model\n",
      "epoch:3, step:10, loss:0.4486922323703766\n",
      "epoch:3, step:20, loss:0.4354502260684967\n",
      "epoch:3, step:30, loss:0.4317919611930847\n",
      "epoch:3, step:40, loss:0.43623632192611694\n",
      "epoch:3, step:50, loss:0.43642908334732056\n",
      "epoch:3, step:60, loss:0.4350283145904541\n",
      "epoch:3, step:70, loss:0.44229334592819214\n",
      "epoch:3, step:80, loss:0.43993186950683594\n",
      "epoch:3, step:90, loss:0.42480239272117615\n",
      "epoch:3, step:100, loss:0.4093851149082184\n",
      "              precision    recall  f1-score   support\n",
      "\n",
      "           0      0.688     0.852     0.761       155\n",
      "           1      0.925     0.826     0.873       345\n",
      "\n",
      "    accuracy                          0.834       500\n",
      "   macro avg      0.806     0.839     0.817       500\n",
      "weighted avg      0.852     0.834     0.838       500\n",
      "\n",
      "准确率: 0.834\n",
      "AUC: 0.9171575502571295\n",
      "saved model:  ./model/bert_dnn_3.model\n",
      "epoch:4, step:10, loss:0.42613139748573303\n",
      "epoch:4, step:20, loss:0.4362049698829651\n",
      "epoch:4, step:30, loss:0.43049898743629456\n",
      "epoch:4, step:40, loss:0.41764888167381287\n",
      "epoch:4, step:50, loss:0.4095165729522705\n",
      "epoch:4, step:60, loss:0.42176681756973267\n",
      "epoch:4, step:70, loss:0.4378371238708496\n",
      "epoch:4, step:80, loss:0.4305590093135834\n",
      "epoch:4, step:90, loss:0.4104909300804138\n",
      "epoch:4, step:100, loss:0.4288473129272461\n",
      "              precision    recall  f1-score   support\n",
      "\n",
      "           0      0.753     0.806     0.779       155\n",
      "           1      0.910     0.881     0.895       345\n",
      "\n",
      "    accuracy                          0.858       500\n",
      "   macro avg      0.832     0.844     0.837       500\n",
      "weighted avg      0.861     0.858     0.859       500\n",
      "\n",
      "准确率: 0.858\n",
      "AUC: 0.9203740065451146\n",
      "saved model:  ./model/bert_dnn_4.model\n",
      "epoch:5, step:10, loss:0.4098486006259918\n",
      "epoch:5, step:20, loss:0.41301673650741577\n",
      "epoch:5, step:30, loss:0.41915765404701233\n",
      "epoch:5, step:40, loss:0.4084978997707367\n",
      "epoch:5, step:50, loss:0.43582409620285034\n",
      "epoch:5, step:60, loss:0.42381611466407776\n",
      "epoch:5, step:70, loss:0.40239349007606506\n",
      "epoch:5, step:80, loss:0.41213876008987427\n",
      "epoch:5, step:90, loss:0.4165131449699402\n",
      "epoch:5, step:100, loss:0.4149976372718811\n",
      "              precision    recall  f1-score   support\n",
      "\n",
      "           0      0.733     0.852     0.788       155\n",
      "           1      0.928     0.861     0.893       345\n",
      "\n",
      "    accuracy                          0.858       500\n",
      "   macro avg      0.831     0.856     0.841       500\n",
      "weighted avg      0.868     0.858     0.861       500\n",
      "\n",
      "准确率: 0.858\n",
      "AUC: 0.9235530621785881\n",
      "saved model:  ./model/bert_dnn_5.model\n",
      "epoch:6, step:10, loss:0.4096547067165375\n",
      "epoch:6, step:20, loss:0.4276321530342102\n",
      "epoch:6, step:30, loss:0.39728572964668274\n",
      "epoch:6, step:40, loss:0.40152159333229065\n",
      "epoch:6, step:50, loss:0.3943102955818176\n",
      "epoch:6, step:60, loss:0.4091007113456726\n",
      "epoch:6, step:70, loss:0.4149911403656006\n",
      "epoch:6, step:80, loss:0.40977129340171814\n",
      "epoch:6, step:90, loss:0.4059723913669586\n",
      "epoch:6, step:100, loss:0.4425806403160095\n",
      "              precision    recall  f1-score   support\n",
      "\n",
      "           0      0.711     0.858     0.778       155\n",
      "           1      0.930     0.843     0.884       345\n",
      "\n",
      "    accuracy                          0.848       500\n",
      "   macro avg      0.820     0.851     0.831       500\n",
      "weighted avg      0.862     0.848     0.851       500\n",
      "\n",
      "准确率: 0.848\n",
      "AUC: 0.9247311827956989\n",
      "saved model:  ./model/bert_dnn_6.model\n",
      "epoch:7, step:10, loss:0.38533011078834534\n",
      "epoch:7, step:20, loss:0.3943566381931305\n",
      "epoch:7, step:30, loss:0.41085004806518555\n",
      "epoch:7, step:40, loss:0.41171565651893616\n",
      "epoch:7, step:50, loss:0.43662208318710327\n",
      "epoch:7, step:60, loss:0.4190775454044342\n",
      "epoch:7, step:70, loss:0.38602423667907715\n",
      "epoch:7, step:80, loss:0.42024335265159607\n",
      "epoch:7, step:90, loss:0.4007279872894287\n",
      "epoch:7, step:100, loss:0.4192224442958832\n",
      "              precision    recall  f1-score   support\n",
      "\n",
      "           0      0.749     0.806     0.776       155\n",
      "           1      0.910     0.878     0.894       345\n",
      "\n",
      "    accuracy                          0.856       500\n",
      "   macro avg      0.829     0.842     0.835       500\n",
      "weighted avg      0.860     0.856     0.857       500\n",
      "\n",
      "准确率: 0.856\n",
      "AUC: 0.9261711079943898\n",
      "saved model:  ./model/bert_dnn_7.model\n",
      "epoch:8, step:10, loss:0.4154529571533203\n",
      "epoch:8, step:20, loss:0.41572052240371704\n",
      "epoch:8, step:30, loss:0.4024393558502197\n",
      "epoch:8, step:40, loss:0.4117964208126068\n",
      "epoch:8, step:50, loss:0.4242471754550934\n",
      "epoch:8, step:60, loss:0.3945957124233246\n",
      "epoch:8, step:70, loss:0.4064463973045349\n",
      "epoch:8, step:80, loss:0.4075518548488617\n",
      "epoch:8, step:90, loss:0.35842275619506836\n",
      "epoch:8, step:100, loss:0.41737785935401917\n",
      "              precision    recall  f1-score   support\n",
      "\n",
      "           0      0.754     0.813     0.783       155\n",
      "           1      0.913     0.881     0.897       345\n",
      "\n",
      "    accuracy                          0.860       500\n",
      "   macro avg      0.834     0.847     0.840       500\n",
      "weighted avg      0.864     0.860     0.861       500\n",
      "\n",
      "准确率: 0.860\n",
      "AUC: 0.9274988312295466\n",
      "saved model:  ./model/bert_dnn_8.model\n",
      "epoch:9, step:10, loss:0.40757593512535095\n",
      "epoch:9, step:20, loss:0.4173792898654938\n",
      "epoch:9, step:30, loss:0.40215396881103516\n",
      "epoch:9, step:40, loss:0.41327500343322754\n",
      "epoch:9, step:50, loss:0.3955432176589966\n",
      "epoch:9, step:60, loss:0.38451963663101196\n",
      "epoch:9, step:70, loss:0.39762717485427856\n",
      "epoch:9, step:80, loss:0.3870905637741089\n",
      "epoch:9, step:90, loss:0.40288710594177246\n",
      "epoch:9, step:100, loss:0.4188731610774994\n",
      "              precision    recall  f1-score   support\n",
      "\n",
      "           0      0.751     0.819     0.784       155\n",
      "           1      0.915     0.878     0.896       345\n",
      "\n",
      "    accuracy                          0.860       500\n",
      "   macro avg      0.833     0.849     0.840       500\n",
      "weighted avg      0.865     0.860     0.862       500\n",
      "\n",
      "准确率: 0.860\n",
      "AUC: 0.9285834502103787\n",
      "saved model:  ./model/bert_dnn_9.model\n",
      "epoch:10, step:10, loss:0.3906018137931824\n",
      "epoch:10, step:20, loss:0.3795916736125946\n",
      "epoch:10, step:30, loss:0.4071192145347595\n",
      "epoch:10, step:40, loss:0.40102696418762207\n",
      "epoch:10, step:50, loss:0.4215888977050781\n",
      "epoch:10, step:60, loss:0.4021278917789459\n",
      "epoch:10, step:70, loss:0.4014948308467865\n",
      "epoch:10, step:80, loss:0.36055678129196167\n",
      "epoch:10, step:90, loss:0.44590744376182556\n",
      "epoch:10, step:100, loss:0.39229169487953186\n",
      "              precision    recall  f1-score   support\n",
      "\n",
      "           0      0.762     0.806     0.784       155\n",
      "           1      0.911     0.887     0.899       345\n",
      "\n",
      "    accuracy                          0.862       500\n",
      "   macro avg      0.836     0.847     0.841       500\n",
      "weighted avg      0.865     0.862     0.863       500\n",
      "\n",
      "准确率: 0.862\n",
      "AUC: 0.929107059373539\n",
      "saved model:  ./model/bert_dnn_10.model\n"
     ]
    }
   ],
   "source": [
    "# 迭代训练\n",
    "for epoch in range(num_epoches):\n",
    "    total_loss = 0\n",
    "    for i, (words, labels) in enumerate(train_loader):\n",
    "        tokens = tokenizer(words, padding=True)\n",
    "        input_ids = torch.tensor(tokens[\"input_ids\"]).to(device)\n",
    "        attention_mask = torch.tensor(tokens[\"attention_mask\"]).to(device)\n",
    "        labels = labels.float().to(device)\n",
    "        with torch.no_grad():\n",
    "            last_hidden_states = bert(input_ids, attention_mask=attention_mask)\n",
    "            bert_output = last_hidden_states[0][:, 0]\n",
    "        optimizer.zero_grad()               # 梯度清零\n",
    "        outputs = net(bert_output)          # 前向传播\n",
    "        logits = outputs.view(-1)           # 将输出展平\n",
    "        loss = criterion(logits, labels)    # loss计算\n",
    "        total_loss += loss\n",
    "        loss.backward()                     # 反向传播，计算梯度\n",
    "        optimizer.step()                    # 梯度更新\n",
    "        if (i+1) % 10 == 0:\n",
    "            print(\"epoch:{}, step:{}, loss:{}\".format(epoch+1, i+1, total_loss/10))\n",
    "            total_loss = 0\n",
    "    \n",
    "    # learning_rate decay\n",
    "    scheduler.step()\n",
    "    \n",
    "    # test\n",
    "    test()\n",
    "    \n",
    "    # save model\n",
    "    model_path = \"./model/bert_dnn_{}.model\".format(epoch+1)\n",
    "    torch.save(net, model_path)\n",
    "    print(\"saved model: \", model_path)"
   ]
  },
  {
   "cell_type": "markdown",
   "metadata": {
    "cell_id": 23
   },
   "source": [
    "### 手动输入句子，判断情感倾向（1正/0负）"
   ]
  },
  {
   "cell_type": "code",
   "execution_count": 13,
   "metadata": {
    "cell_id": 38
   },
   "outputs": [],
   "source": [
    "net = torch.load(\"./model/bert_dnn_8.model\")    # 训练过程中的巅峰时刻"
   ]
  },
  {
   "cell_type": "code",
   "execution_count": 14,
   "metadata": {
    "cell_id": 37
   },
   "outputs": [
    {
     "data": {
      "text/plain": [
       "tensor([[0.8590],\n",
       "        [0.1587]], grad_fn=<SigmoidBackward0>)"
      ]
     },
     "execution_count": 14,
     "metadata": {},
     "output_type": "execute_result"
    }
   ],
   "source": [
    "s = [\"华丽繁荣的城市、充满回忆的小镇、郁郁葱葱的山谷...\", \"突然就觉得人间不值得\"]\n",
    "tokens = tokenizer(s, padding=True)\n",
    "input_ids = torch.tensor(tokens[\"input_ids\"])\n",
    "attention_mask = torch.tensor(tokens[\"attention_mask\"])\n",
    "last_hidden_states = bert(input_ids, attention_mask=attention_mask)\n",
    "bert_output = last_hidden_states[0][:, 0]\n",
    "outputs = net(bert_output)\n",
    "outputs"
   ]
  },
  {
   "cell_type": "code",
   "execution_count": 15,
   "metadata": {
    "cell_id": 27,
    "scrolled": true
   },
   "outputs": [
    {
     "data": {
      "text/plain": [
       "tensor([[0.9690],\n",
       "        [0.9831]], grad_fn=<SigmoidBackward0>)"
      ]
     },
     "execution_count": 15,
     "metadata": {},
     "output_type": "execute_result"
    }
   ],
   "source": [
    "s = [\"今天天气真好\", \"今天天气特别特别棒\"]\n",
    "tokens = tokenizer(s, padding=True)\n",
    "input_ids = torch.tensor(tokens[\"input_ids\"])\n",
    "attention_mask = torch.tensor(tokens[\"attention_mask\"])\n",
    "last_hidden_states = bert(input_ids, attention_mask=attention_mask)\n",
    "bert_output = last_hidden_states[0][:, 0]\n",
    "outputs = net(bert_output)\n",
    "outputs"
   ]
  },
  {
   "cell_type": "code",
   "execution_count": null,
   "metadata": {
    "cell_id": 32
   },
   "outputs": [],
   "source": []
  }
 ],
 "metadata": {
  "kernelspec": {
   "display_name": "Python 3",
   "language": "python",
   "name": "python3"
  },
  "language_info": {
   "codemirror_mode": {
    "name": "ipython",
    "version": 3
   },
   "file_extension": ".py",
   "mimetype": "text/x-python",
   "name": "python",
   "nbconvert_exporter": "python",
   "pygments_lexer": "ipython3",
   "version": "3.10.0"
  },
  "max_cell_id": 45
 },
 "nbformat": 4,
 "nbformat_minor": 5
}
